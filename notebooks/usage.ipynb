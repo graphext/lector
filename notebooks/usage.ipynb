{
 "cells": [
  {
   "cell_type": "code",
   "execution_count": 2,
   "id": "d1a0847a",
   "metadata": {},
   "outputs": [],
   "source": [
    "from tweetnlp import Task, data, eval, classify"
   ]
  },
  {
   "cell_type": "markdown",
   "id": "42a4a31f",
   "metadata": {},
   "source": [
    "# Simple scoring"
   ]
  },
  {
   "cell_type": "code",
   "execution_count": 3,
   "id": "07e07d12",
   "metadata": {},
   "outputs": [
    {
     "data": {
      "text/plain": [
       "True"
      ]
     },
     "execution_count": 3,
     "metadata": {},
     "output_type": "execute_result"
    }
   ],
   "source": [
    "# Using the test labels as predictions should return a perfect score\n",
    "task = Task.emoji\n",
    "pred = data.test_labels(task)\n",
    "s = eval.score(pred, task)\n",
    "s == 1.0"
   ]
  },
  {
   "cell_type": "markdown",
   "id": "c97eca2c",
   "metadata": {},
   "source": [
    "# Evaluating Cardiff models"
   ]
  },
  {
   "cell_type": "code",
   "execution_count": 4,
   "id": "093b2fc6",
   "metadata": {},
   "outputs": [
    {
     "name": "stdout",
     "output_type": "stream",
     "text": [
      "Loading model cardiffnlp/twitter-roberta-base-emotion\n"
     ]
    },
    {
     "name": "stderr",
     "output_type": "stream",
     "text": [
      "Preprocessing: 100%|██████████| 1421/1421 [00:00<00:00, 193906.56it/s]\n",
      "Classifying: 1421it [01:13, 19.38it/s]"
     ]
    },
    {
     "name": "stdout",
     "output_type": "stream",
     "text": [
      "First 10 labels: ['sadness', 'anger', 'sadness', 'optimism', 'optimism', 'joy', 'sadness', 'sadness', 'optimism', 'joy']\n"
     ]
    },
    {
     "name": "stderr",
     "output_type": "stream",
     "text": [
      "\n"
     ]
    },
    {
     "data": {
      "text/plain": [
       "0.0"
      ]
     },
     "execution_count": 4,
     "metadata": {},
     "output_type": "execute_result"
    }
   ],
   "source": [
    "# Some Cardiff models on huggingface return human-readable labels and some integer ids\n",
    "# So we cannot yet elegantly decide against which labels to compare...\n",
    "task = Task.emotion\n",
    "clf = classify.PretrainedCardiffClassifier(task)\n",
    "s = eval.evaluate(clf, task, preproc=False)\n",
    "s"
   ]
  }
 ],
 "metadata": {
  "hide_input": false,
  "interpreter": {
   "hash": "9db231267511408c3f6b162d99531a8abc44eea0d257e1fffb6a9601732d3cd1"
  },
  "kernelspec": {
   "display_name": "Python 3.7.12 ('tweetnlp')",
   "language": "python",
   "name": "python3"
  },
  "language_info": {
   "codemirror_mode": {
    "name": "ipython",
    "version": 3
   },
   "file_extension": ".py",
   "mimetype": "text/x-python",
   "name": "python",
   "nbconvert_exporter": "python",
   "pygments_lexer": "ipython3",
   "version": "3.7.12"
  }
 },
 "nbformat": 4,
 "nbformat_minor": 5
}
