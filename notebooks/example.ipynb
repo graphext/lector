{
 "cells": [
  {
   "cell_type": "code",
   "execution_count": 22,
   "id": "58eb08f3",
   "metadata": {
    "ExecuteTime": {
     "end_time": "2022-12-12T16:38:57.788998Z",
     "start_time": "2022-12-12T16:38:57.782691Z"
    }
   },
   "outputs": [],
   "source": [
    "import lector\n",
    "import pandas as pd"
   ]
  },
  {
   "cell_type": "code",
   "execution_count": 23,
   "id": "5230ccf5",
   "metadata": {
    "ExecuteTime": {
     "end_time": "2022-12-12T16:38:59.183049Z",
     "start_time": "2022-12-12T16:38:59.177918Z"
    }
   },
   "outputs": [],
   "source": [
    "csv = \"\"\"\n",
    "Some preamble content here\n",
    "This is still \"part of the metadata preamble\"\n",
    "id;genre;metric;count;content;website;tags;vecs;date\n",
    "1234982348728374;a;0.1;1;; http://www.graphext.com;\"[a,b,c]\";\"[1.3, 1.4, 1.67]\";11/10/2022\n",
    ";b;0.12;;\"Natural language text is different from categorical data.\"; https://www.twitter.com;[d];\"[0, 1.9423]\";01/10/2022\n",
    "9007199254740993;a;3.14;3;\"The Project · Gutenberg » EBook « of Die Fürstin.\";http://www.google.com;\"['e', 'f']\";[\"84.234, 12509.99\"];13/10/2021\n",
    "\"\"\".encode(\"ISO-8859-1\")\n",
    "\n",
    "with open(\"example.csv\", \"wb\") as fp:\n",
    "    fp.write(csv)"
   ]
  },
  {
   "cell_type": "code",
   "execution_count": 24,
   "id": "91850fdc",
   "metadata": {
    "ExecuteTime": {
     "end_time": "2022-12-12T16:39:01.422026Z",
     "start_time": "2022-12-12T16:39:01.366891Z"
    }
   },
   "outputs": [
    {
     "data": {
      "text/html": [
       "<pre style=\"white-space:pre;overflow-x:auto;line-height:normal;font-family:Menlo,'DejaVu Sans Mono',consolas,'Courier New',monospace\">\n",
       "</pre>\n"
      ],
      "text/plain": [
       "\n"
      ]
     },
     "metadata": {},
     "output_type": "display_data"
    },
    {
     "name": "stdout",
     "output_type": "stream",
     "text": [
      "                 id genre  metric  count  \\\n",
      "0  1234982348728374     a    0.10      1   \n",
      "1              <NA>     b    0.12   <NA>   \n",
      "2  9007199254740993     a    3.14      3   \n",
      "\n",
      "                                             content                  website  \\\n",
      "0                                               <NA>  http://www.graphext.com   \n",
      "1  Natural language text is different from catego...  https://www.twitter.com   \n",
      "2  The Project · Gutenberg » EBook « of Die Fürstin.    http://www.google.com   \n",
      "\n",
      "        tags                vecs       date  \n",
      "0  [a, b, c]    [1.3, 1.4, 1.67] 2022-10-11  \n",
      "1        [d]       [0.0, 1.9423] 2022-10-01  \n",
      "2     [e, f]  [84.234, 12509.99] 2021-10-13  \n",
      "\n",
      " id                  Int64\n",
      "genre            category\n",
      "metric            float64\n",
      "count               UInt8\n",
      "content            string\n",
      "website          category\n",
      "tags               object\n",
      "vecs               object\n",
      "date       datetime64[ns]\n",
      "dtype: object\n"
     ]
    }
   ],
   "source": [
    "df = lector.read_csv(\"example.csv\", to_pandas=True)\n",
    "print(df)\n",
    "print(\"\\n\", df.dtypes)"
   ]
  },
  {
   "cell_type": "code",
   "execution_count": 26,
   "id": "b8c6261e",
   "metadata": {
    "ExecuteTime": {
     "end_time": "2022-12-12T16:39:16.280641Z",
     "start_time": "2022-12-12T16:39:16.262108Z"
    }
   },
   "outputs": [
    {
     "name": "stdout",
     "output_type": "stream",
     "text": [
      "                 id genre  metric  count  \\\n",
      "0  1234982348728374     a    0.10      1   \n",
      "1              <NA>     b    0.12   <NA>   \n",
      "2  9007199254740992     a    3.14      3   \n",
      "\n",
      "                                             content  \\\n",
      "0                                               <NA>   \n",
      "1  Natural language text is different from catego...   \n",
      "2  The Project · Gutenberg » EBook « of Die Fürstin.   \n",
      "\n",
      "                    website        tags                  vecs       date  \n",
      "0   http://www.graphext.com     [a,b,c]      [1.3, 1.4, 1.67] 2022-11-10  \n",
      "1   https://www.twitter.com         [d]           [0, 1.9423] 2022-01-10  \n",
      "2     http://www.google.com  ['e', 'f']  [\"84.234, 12509.99\"] 2021-10-13  \n",
      "\n",
      " id                  Int64\n",
      "genre            category\n",
      "metric            float64\n",
      "count               UInt8\n",
      "content            string\n",
      "website          category\n",
      "tags               object\n",
      "vecs               object\n",
      "date       datetime64[ns]\n",
      "dtype: object\n"
     ]
    },
    {
     "name": "stderr",
     "output_type": "stream",
     "text": [
      "/var/folders/b2/mplwbs6j15976g80v9bw7c4r0000gn/T/ipykernel_80150/366501397.py:14: UserWarning: Parsing dates in DD/MM/YYYY format when dayfirst=False (the default) was specified. This may lead to inconsistently parsed dates! Specify a format to ensure consistent parsing.\n",
      "  df = pd.read_csv(\n"
     ]
    }
   ],
   "source": [
    "import pandas as pd\n",
    "\n",
    "dtypes = {\n",
    "    \"id\": \"Int64\",\n",
    "    \"genre\": \"category\",\n",
    "    \"metric\": \"float\",\n",
    "    \"count\": \"UInt8\", \n",
    "    \"content\": \"string\",\n",
    "    \"website\": \"category\",\n",
    "    \"tags\": \"object\",\n",
    "    \"vecs\": \"object\"\n",
    "}\n",
    "\n",
    "df = pd.read_csv(\n",
    "    \"example.csv\",\n",
    "    encoding=\"ISO-8859-1\",\n",
    "    skiprows=3,\n",
    "    sep=\";\",\n",
    "    dtype=dtypes,\n",
    "    parse_dates=[\"date\"],\n",
    "    infer_datetime_format=True\n",
    ")\n",
    "\n",
    "print(df)\n",
    "print(\"\\n\", df.dtypes)"
   ]
  }
 ],
 "metadata": {
  "kernelspec": {
   "display_name": "lector",
   "language": "python",
   "name": "lector"
  },
  "language_info": {
   "codemirror_mode": {
    "name": "ipython",
    "version": 3
   },
   "file_extension": ".py",
   "mimetype": "text/x-python",
   "name": "python",
   "nbconvert_exporter": "python",
   "pygments_lexer": "ipython3",
   "version": "3.10.8"
  }
 },
 "nbformat": 4,
 "nbformat_minor": 5
}
